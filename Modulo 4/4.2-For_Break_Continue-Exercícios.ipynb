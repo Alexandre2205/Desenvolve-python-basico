{
 "cells": [
  {
   "cell_type": "markdown",
   "id": "29e89030",
   "metadata": {},
   "source": [
    "# Módulo 4 - Repetições\n",
    "\n",
    "## Aulas 4.2 - Comando ```for``` e 4.3 Break e Continue"
   ]
  },
  {
   "cell_type": "markdown",
   "id": "a45b42df",
   "metadata": {},
   "source": [
    "### Q1.\n",
    "\n",
    "Crie um programa em Python que utilize o comando for para imprimir os números de 10 a 1, em ordem decrescente."
   ]
  },
  {
   "cell_type": "code",
   "execution_count": 5,
   "id": "55a75b3d",
   "metadata": {},
   "outputs": [
    {
     "name": "stdout",
     "output_type": "stream",
     "text": [
      "10\n",
      "9\n",
      "8\n",
      "7\n",
      "6\n",
      "5\n",
      "4\n",
      "3\n",
      "2\n",
      "1\n"
     ]
    }
   ],
   "source": [
    "for i in range(10,0,-1):\n",
    "    print(i)\n"
   ]
  },
  {
   "cell_type": "markdown",
   "id": "94b47c36",
   "metadata": {},
   "source": [
    "### Q2.\n",
    "\n",
    "Dado um número inteiro positivo informado pelo usuário, crie um programa em Python que utilize o comando for para calcular e exibir a soma dos números de 1 até o número informado. Ou seja, $1 + 2 + 3 + ... + n$\n",
    "\n",
    "Exemplo de interação:\n",
    "```\n",
    "Digite um número: 5\n",
    "A soma dos números de 1 a 5 é 15\n",
    "```\n"
   ]
  },
  {
   "cell_type": "code",
   "execution_count": 11,
   "id": "45b71596",
   "metadata": {},
   "outputs": [
    {
     "name": "stdout",
     "output_type": "stream",
     "text": [
      "Digite um numero: 5\n",
      "A soma dos números de 1 a 5 é 15\n"
     ]
    }
   ],
   "source": [
    "n=int(input('Digite um numero: '))\n",
    "soma=0\n",
    "for i in range(1,n-1,1):\n",
    "    soma+=n\n",
    "print(f'A soma dos números de 1 a {n} é {soma}')\n"
   ]
  },
  {
   "cell_type": "markdown",
   "id": "0411d170",
   "metadata": {},
   "source": [
    "### Q3.\n",
    "\n",
    "Escreva um programa que lê 10 valores inteiros positivos do usuário e ao final imprime a média dos valores digitados com duas casas decimais.\n",
    "\n",
    "```\n",
    "Digite 10 números positivos:\n",
    "3\n",
    "2\n",
    "12\n",
    "14\n",
    "20\n",
    "42\n",
    "19\n",
    "0\n",
    "8\n",
    "1\n",
    "A média dos valores digitados é 12.10\n",
    "```"
   ]
  },
  {
   "cell_type": "code",
   "execution_count": 5,
   "id": "3f72f358",
   "metadata": {},
   "outputs": [
    {
     "name": "stdout",
     "output_type": "stream",
     "text": [
      "Digite um numero: 3\n",
      "Digite um numero: 2\n",
      "Digite um numero: 12\n",
      "Digite um numero: 14\n",
      "Digite um numero: 20\n",
      "Digite um numero: 42\n",
      "Digite um numero: 19\n",
      "Digite um numero: 0\n",
      "Digite um numero: 8\n",
      "Digite um numero: 1\n",
      "A média dos valores digitados é 12.10\n"
     ]
    }
   ],
   "source": [
    "n=0\n",
    "for i in range(10):\n",
    "    n+=int(input('Digite um numero: '))\n",
    "print(f'A média dos valores digitados é {n/10:.2f}')\n",
    "    \n"
   ]
  },
  {
   "cell_type": "markdown",
   "id": "d62e27ff",
   "metadata": {},
   "source": [
    "### Q4.\n",
    "\n",
    "Você vai criar um sistema que registra os resultados dos jogos do Atlético MG ao longo de um campeonato. Seu sistema vai receber os resultados de todos os jogos do Galo, e deve calcular a pontuação do time sabendo que vitórias valem 3 pontos, empates 1 ponto e derrotas 0 pontos.\n",
    "\n",
    "Entrada: <br>\n",
    "A primeira linha de entrada é um inteiro N com a quantidade jogos do galo. Para cada jogo você deve ler 2 inteiros, o primeiro com a quantidade de gols do galo e o segundo com a quantidade de gols do time oponente. \n",
    "\n",
    "Saída: <br>\n",
    "Apresente a soma de vitórias, empates e derrotas do galo, junto com o cálculo da pontuação total.\n",
    "\n",
    "Ex:\n",
    "```\n",
    "Entrada:\n",
    "4\n",
    "2\n",
    "0\n",
    "1\n",
    "1\n",
    "0\n",
    "3\n",
    "1\n",
    "0\n",
    "\n",
    "Saída:\n",
    "Vitórias: 2\n",
    "Empates: 1\n",
    "Derrotas: 1\n",
    "Pontuação: 7\n",
    "\n",
    "```\n",
    "\n",
    "\n"
   ]
  },
  {
   "cell_type": "code",
   "execution_count": 12,
   "id": "d3fdfc2a",
   "metadata": {},
   "outputs": [
    {
     "name": "stdout",
     "output_type": "stream",
     "text": [
      "Digite a quantidade de jogos do Menor de Minas: 3\n",
      "digite quantos a quantidade de gols do galo: 1\n",
      "digite quantos a quantidade de gols do time adversario: 2\n",
      "digite quantos a quantidade de gols do galo: 2\n",
      "digite quantos a quantidade de gols do time adversario: 1\n",
      "digite quantos a quantidade de gols do galo: 3\n",
      "digite quantos a quantidade de gols do time adversario: 3\n",
      "Vitórias: 1\n",
      "Empates: 1\n",
      "Derrotas: 1\n",
      "Pontuação: 4\n"
     ]
    }
   ],
   "source": [
    "derrota=0\n",
    "vitoria=0\n",
    "empate=0\n",
    "jogo=int(input('Digite a quantidade de jogos do Menor de Minas: '))\n",
    "for i in range (jogo):\n",
    "    gg=int(input('digite quantos a quantidade de gols do galo: '))\n",
    "    go=int(input('digite quantos a quantidade de gols do time adversario: '))\n",
    "    if gg > go:\n",
    "        vitoria = vitoria+1\n",
    "    elif go > gg:\n",
    "        derrota = derrota+1\n",
    "    else:\n",
    "        empate = empate+1\n",
    "pontos= empate*1+vitoria*3\n",
    "print('Vitórias:',vitoria)\n",
    "print('Empates:',empate)\n",
    "print('Derrotas:',derrota)\n",
    "print('Pontuação:',pontos)"
   ]
  },
  {
   "cell_type": "markdown",
   "id": "fc98604d",
   "metadata": {},
   "source": [
    "### Q5.\n",
    "\n",
    "Faça um programa que lê dois inteiros N e M, e imprime na tela um campo de batalha naval. O tabuleiro deve possuir N linhas e M colunas. A primeira linha é composta por um espaço em branco e o cabeçalho das colunas, ou seja, valores de 1 a M. As N linhas seguintes iniciam com o cabeçalho da linha, ou seja, seu número, seguido de M caracteres \"/\" (barra) indicando uma possível posição jogável. \n",
    "\n",
    "```\n",
    "Entrada:\n",
    "5\n",
    "4\n",
    "\n",
    "Saída:\n",
    "  1 2 3 4 \n",
    "1 / / / / \n",
    "2 / / / / \n",
    "3 / / / / \n",
    "4 / / / / \n",
    "5 / / / / \n",
    "```\n",
    "\n",
    "Para esse exercício, precisamos lembrar que o comando print implicitamente adiciona uma quebra de linha ao final da impressão. Podemos interferir no final da impressão adicionando mais uma entrada ao print. No exemplo, finalizamos cada linha com um espaço em branco:\n",
    "```python\n",
    "print(\"Texto qualquer\", end = \" \")\n",
    "```"
   ]
  },
  {
   "cell_type": "code",
   "execution_count": 4,
   "id": "a60ef197",
   "metadata": {},
   "outputs": [
    {
     "name": "stdout",
     "output_type": "stream",
     "text": [
      "Digite o número de linhas: 4\n",
      "Digite o número de colunas: 5\n",
      "   1 2 3 4 5\n",
      " 1 / / / / / \n",
      " 2 / / / / / \n",
      " 3 / / / / / \n",
      " 4 / / / / / \n"
     ]
    }
   ],
   "source": [
    "N = int(input(\"Digite o número de linhas: \"))\n",
    "M = int(input(\"Digite o número de colunas: \"))\n",
    "\n",
    "# Imprime o cabeçalho das colunas\n",
    "print(\"  \", end=\"\")\n",
    "for i in range(1, M+1):\n",
    "    print(f\"{i:2}\", end=\"\")\n",
    "print()\n",
    "\n",
    "# Imprime as linhas do tabuleiro\n",
    "for i in range(1, N+1):\n",
    "    print(f\"{i:2}\", end=\" \")\n",
    "    for j in range(M):\n",
    "        print(\"/ \", end=\"\")\n",
    "    print()"
   ]
  },
  {
   "cell_type": "markdown",
   "id": "4654dc0b",
   "metadata": {},
   "source": [
    "---\n",
    "## Break e Continue"
   ]
  },
  {
   "cell_type": "markdown",
   "id": "24fe9d85",
   "metadata": {},
   "source": [
    "### Q6.\n",
    "\n",
    "Escreva um programa que lê uma quantidade indefinida de valores e informa o maior e o menor valor digitados. A leitura é encerrada quando o usuário digitar o valor 0 (zero).\n",
    "\n",
    "```\n",
    "Entrada:\n",
    "12\n",
    "-1\n",
    "29\n",
    "11\n",
    "-5\n",
    "0\n",
    "\n",
    "Saída:\n",
    "Maior: 29\n",
    "Menor: -5\n",
    "```"
   ]
  },
  {
   "cell_type": "code",
   "execution_count": 5,
   "id": "ee1c466a",
   "metadata": {},
   "outputs": [
    {
     "name": "stdout",
     "output_type": "stream",
     "text": [
      "Digite um número (0 para sair): 5\n",
      "Digite um número (0 para sair): 79\n",
      "Digite um número (0 para sair): -15\n",
      "Digite um número (0 para sair): -88\n",
      "Digite um número (0 para sair): 11\n",
      "Digite um número (0 para sair): 1\n",
      "Digite um número (0 para sair): 9\n",
      "Digite um número (0 para sair): 0\n",
      "Maior: 79\n",
      "Menor: -88\n"
     ]
    }
   ],
   "source": [
    "maior = 0\n",
    "menor = 0\n",
    "\n",
    "while True:\n",
    "    valor = int(input(\"Digite um número (0 para sair): \"))\n",
    "\n",
    "    if valor == 0:\n",
    "        break\n",
    "\n",
    "    if valor > maior:\n",
    "        maior = valor\n",
    "\n",
    "    if valor < menor:\n",
    "        menor = valor\n",
    "\n",
    "print(\"Maior:\", maior)\n",
    "print(\"Menor:\", menor)\n"
   ]
  },
  {
   "cell_type": "markdown",
   "id": "30d486f7",
   "metadata": {},
   "source": [
    "### Q7.\n",
    "\n",
    "Escreva um programa que lê uma quantidade indefinida de valores e informa o **produto** dos valores positivos digitados. A leitura é encerrada quando o usuário digitar o valor 0 (zero).\n",
    "\n",
    "```\n",
    "Entrada:\n",
    "2\n",
    "-1\n",
    "1\n",
    "3\n",
    "-5\n",
    "0\n",
    "\n",
    "Saída:\n",
    "Produto: 6\n",
    "```"
   ]
  },
  {
   "cell_type": "code",
   "execution_count": 8,
   "id": "2f1ac324",
   "metadata": {},
   "outputs": [
    {
     "name": "stdout",
     "output_type": "stream",
     "text": [
      "Digite um número (0 para sair): 5\n",
      "Digite um número (0 para sair): -7\n",
      "Digite um número (0 para sair): 0\n",
      "O produto dos valores positivos é: 5\n"
     ]
    }
   ],
   "source": [
    "produto = 1  # Inicializa o produto com 1, pois qualquer número multiplicado por 1 é ele mesmo\n",
    "\n",
    "while True:\n",
    "    valor = int(input(\"Digite um número (0 para sair): \"))\n",
    "\n",
    "    if valor == 0:\n",
    "        break\n",
    "\n",
    "    if valor > 0:\n",
    "        produto *= valor\n",
    "\n",
    "print(\"O produto dos valores positivos é:\", produto)\n"
   ]
  },
  {
   "cell_type": "markdown",
   "id": "e932f3cf",
   "metadata": {},
   "source": [
    "### Q8.\n",
    "\n",
    "Vamos fazer uma calculadora que aceita expressões aritméticas de qualquer tamanho até que o usuário digite a palavra \"Fim\". Sua calculadora executa apenas as operações \"+\", \"-\".\n",
    "\n",
    "```\n",
    "Entrada:\n",
    "5\n",
    "+\n",
    "8\n",
    "-\n",
    "3\n",
    "+\n",
    "2\n",
    "Fim\n",
    "\n",
    "Saída:\n",
    "12\n",
    "```"
   ]
  },
  {
   "cell_type": "code",
   "execution_count": 11,
   "id": "e835d870",
   "metadata": {
    "scrolled": true
   },
   "outputs": [
    {
     "name": "stdout",
     "output_type": "stream",
     "text": [
      "Quando for solicitado digite o numero, a operação (+,-) e em seguida o segundo numero...\n",
      "Digite o numero: 5\n",
      "Digite o sinal da operação (+ ou -): +\n",
      "digite o segundo numero: 4\n",
      "digite o sinal da operação (+ ou -): -\n",
      "Digite o numero: 9\n",
      "Digite o sinal da operação (+ ou -): +\n",
      "digite o segundo numero: 1\n",
      "digite o sinal da operação (+ ou -): fim\n",
      "Resultado: 1\n"
     ]
    }
   ],
   "source": [
    "n1=0\n",
    "n2=0\n",
    "resultmais=0\n",
    "resultmenos=0\n",
    "op=\"a\"\n",
    "op2=\"b\"\n",
    "print('Quando for solicitado digite o numero, a operação (+,-) e em seguida o segundo numero...\"fim\" para terminar')\n",
    "while True:\n",
    "    n1=int(input('Digite o numero: '))                            #entrada de dados 1\n",
    "    if n1 == \"fim\" or op == \"fim\" or n2 == \"fim\" or op2 == \"fim\": #faz parar o laço\n",
    "        break\n",
    "    if op2== \"b\":       # esse if faz somar o primeiro valor digitado\n",
    "        resultmais+=n1  \n",
    "    if op2=='+':        # ja esse if e o elif abaixo dependem do sinal digitado na \"entrada de dados 4\"\n",
    "        resultmais+=n1\n",
    "    elif op2=='-':\n",
    "        resultmenos-=n1\n",
    "    op=input('Digite o sinal da operação (+ ou -): ')             #entrada de dados 2\n",
    "    if n1 == \"fim\" or op == \"fim\" or n2 == \"fim\" or op2 == \"fim\": #faz parar o laço\n",
    "        break\n",
    "    n2=int(input('digite o segundo numero: '))                    #entrada de dados 3\n",
    "    if n1 == \"fim\" or op == \"fim\" or n2 == \"fim\" or op2 == \"fim\": #faz parar o laço\n",
    "        break\n",
    "    if op=='+':         # esse if e o elif a baixo dependem do sinal digitado na \"entrada de dados 2\"\n",
    "        resultmais+=n2\n",
    "    elif op=='-':\n",
    "        resultmenos-=n2\n",
    "    op2=input('digite o sinal da operação (+ ou -): ')            #entrada de dados 4\n",
    "    if n1 == \"fim\" or op == \"fim\" or n2 == \"fim\" or op2 == \"fim\": #faz parar o laço\n",
    "        break\n",
    "print('Resultado:',resultmenos+resultmais)\n"
   ]
  },
  {
   "cell_type": "code",
   "execution_count": null,
   "id": "895e9d63",
   "metadata": {},
   "outputs": [],
   "source": []
  }
 ],
 "metadata": {
  "kernelspec": {
   "display_name": "Python 3 (ipykernel)",
   "language": "python",
   "name": "python3"
  },
  "language_info": {
   "codemirror_mode": {
    "name": "ipython",
    "version": 3
   },
   "file_extension": ".py",
   "mimetype": "text/x-python",
   "name": "python",
   "nbconvert_exporter": "python",
   "pygments_lexer": "ipython3",
   "version": "3.10.12"
  }
 },
 "nbformat": 4,
 "nbformat_minor": 5
}
